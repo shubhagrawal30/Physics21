{
 "cells": [
  {
   "cell_type": "markdown",
   "id": "italic-reform",
   "metadata": {},
   "source": [
    "# Physics 21, Spring 2020\n",
    "## Assignment 3: LIGO Inspirals"
   ]
  },
  {
   "cell_type": "code",
   "execution_count": 53,
   "id": "requested-spectacular",
   "metadata": {},
   "outputs": [],
   "source": [
    "from astropy import constants as c\n",
    "from matplotlib import pyplot as pl\n",
    "from astropy import units as u\n",
    "import numpy as np"
   ]
  },
  {
   "cell_type": "markdown",
   "id": "portuguese-robinson",
   "metadata": {},
   "source": [
    "# Question 1"
   ]
  },
  {
   "cell_type": "code",
   "execution_count": 45,
   "id": "answering-marking",
   "metadata": {},
   "outputs": [
    {
     "data": {
      "text/latex": [
       "$1.9884099 \\times 10^{30} \\; \\mathrm{kg}$"
      ],
      "text/plain": [
       "<<class 'astropy.constants.iau2015.IAU2015'> name='Solar mass' value=1.988409870698051e+30 uncertainty=4.468805426856864e+25 unit='kg' reference='IAU 2015 Resolution B 3 + CODATA 2018'>"
      ]
     },
     "execution_count": 45,
     "metadata": {},
     "output_type": "execute_result"
    }
   ],
   "source": [
    "c.M_sun"
   ]
  },
  {
   "cell_type": "code",
   "execution_count": 42,
   "id": "occupational-adelaide",
   "metadata": {},
   "outputs": [
    {
     "data": {
      "text/latex": [
       "$1.6749275 \\times 10^{-27} \\; \\mathrm{kg}$"
      ],
      "text/plain": [
       "<<class 'astropy.constants.codata2018.CODATA2018'> name='Neutron mass' value=1.67492749804e-27 uncertainty=9.5e-37 unit='kg' reference='CODATA 2018'>"
      ]
     },
     "execution_count": 42,
     "metadata": {},
     "output_type": "execute_result"
    }
   ],
   "source": [
    "c.m_n"
   ]
  },
  {
   "cell_type": "code",
   "execution_count": 43,
   "id": "closing-shift",
   "metadata": {},
   "outputs": [
    {
     "data": {
      "text/latex": [
       "$1.6726219 \\times 10^{-27} \\; \\mathrm{kg}$"
      ],
      "text/plain": [
       "<<class 'astropy.constants.codata2018.CODATA2018'> name='Proton mass' value=1.67262192369e-27 uncertainty=5.1e-37 unit='kg' reference='CODATA 2018'>"
      ]
     },
     "execution_count": 43,
     "metadata": {},
     "output_type": "execute_result"
    }
   ],
   "source": [
    "c.m_p"
   ]
  },
  {
   "cell_type": "code",
   "execution_count": 44,
   "id": "regional-batman",
   "metadata": {},
   "outputs": [
    {
     "data": {
      "text/latex": [
       "$1.9020771 \\times 10^{57} \\; \\mathrm{}$"
      ],
      "text/plain": [
       "<Quantity 1.90207706e+57>"
      ]
     },
     "execution_count": 44,
     "metadata": {},
     "output_type": "execute_result"
    }
   ],
   "source": [
    "1.6 * c.M_sun / ((c.m_p + c.m_p) / 2)"
   ]
  },
  {
   "cell_type": "markdown",
   "id": "official-sapphire",
   "metadata": {},
   "source": [
    "From the assignment, we know that the mass of a neutron star is about $1-2.2$ $M_\\odot$ ~ 1.6 $M_\\odot$. As mass of neutron stars is almost entirely just due to protons and neutrons (which are approximately the same mass), we can write the number of nucleons in the neutron star to be $$\\frac{1.6 M_\\odot}{(m_n + m_p) / 2} \\approx 2 \\times 10^{57}$$"
   ]
  },
  {
   "cell_type": "markdown",
   "id": "intensive-fancy",
   "metadata": {},
   "source": [
    "# Question 2"
   ]
  },
  {
   "cell_type": "code",
   "execution_count": 22,
   "id": "posted-xerox",
   "metadata": {},
   "outputs": [
    {
     "data": {
      "text/latex": [
       "$695700 \\; \\mathrm{km}$"
      ],
      "text/plain": [
       "<Quantity 695700. km>"
      ]
     },
     "execution_count": 22,
     "metadata": {},
     "output_type": "execute_result"
    }
   ],
   "source": [
    "c.R_sun.to('km')"
   ]
  },
  {
   "cell_type": "code",
   "execution_count": 47,
   "id": "helpful-profit",
   "metadata": {},
   "outputs": [
    {
     "data": {
      "text/latex": [
       "$88.597502 \\; \\mathrm{km}$"
      ],
      "text/plain": [
       "<Quantity 88.59750228 km>"
      ]
     },
     "execution_count": 47,
     "metadata": {},
     "output_type": "execute_result"
    }
   ],
   "source": [
    "(2 * c.G * 30 * c.M_sun / c.c ** 2).to('km')"
   ]
  },
  {
   "cell_type": "markdown",
   "id": "virgin-inspiration",
   "metadata": {},
   "source": [
    "Radius of the Sun = $6.957\\times 10^5$ km. \n",
    "\n",
    "Radius of neutron stars ~ 10 km.\n",
    "\n",
    "Radius (Schwarzschild) of black holes (~ 30 $M_\\odot$) ~ 90 km."
   ]
  },
  {
   "cell_type": "markdown",
   "id": "metallic-specification",
   "metadata": {},
   "source": [
    "# Question 3"
   ]
  },
  {
   "cell_type": "code",
   "execution_count": 46,
   "id": "subject-hotel",
   "metadata": {},
   "outputs": [
    {
     "data": {
      "text/latex": [
       "$1.9884099 \\times 10^{30} \\; \\mathrm{kg}$"
      ],
      "text/plain": [
       "<<class 'astropy.constants.iau2015.IAU2015'> name='Solar mass' value=1.988409870698051e+30 uncertainty=4.468805426856864e+25 unit='kg' reference='IAU 2015 Resolution B 3 + CODATA 2018'>"
      ]
     },
     "execution_count": 46,
     "metadata": {},
     "output_type": "execute_result"
    }
   ],
   "source": [
    "c.M_sun"
   ]
  },
  {
   "cell_type": "code",
   "execution_count": 40,
   "id": "attended-double",
   "metadata": {},
   "outputs": [
    {
     "data": {
      "text/latex": [
       "$6.6743 \\times 10^{-11} \\; \\mathrm{\\frac{m^{3}}{kg\\,s^{2}}}$"
      ],
      "text/plain": [
       "<<class 'astropy.constants.codata2018.CODATA2018'> name='Gravitational constant' value=6.6743e-11 uncertainty=1.5e-15 unit='m3 / (kg s2)' reference='CODATA 2018'>"
      ]
     },
     "execution_count": 40,
     "metadata": {},
     "output_type": "execute_result"
    }
   ],
   "source": [
    "c.G"
   ]
  },
  {
   "cell_type": "code",
   "execution_count": 41,
   "id": "eight-lobby",
   "metadata": {},
   "outputs": [
    {
     "data": {
      "text/latex": [
       "$2.9979246 \\times 10^{8} \\; \\mathrm{\\frac{m}{s}}$"
      ],
      "text/plain": [
       "<<class 'astropy.constants.codata2018.CODATA2018'> name='Speed of light in vacuum' value=299792458.0 uncertainty=0.0 unit='m / s' reference='CODATA 2018'>"
      ]
     },
     "execution_count": 41,
     "metadata": {},
     "output_type": "execute_result"
    }
   ],
   "source": [
    "c.c"
   ]
  },
  {
   "cell_type": "code",
   "execution_count": 32,
   "id": "flexible-consultation",
   "metadata": {},
   "outputs": [
    {
     "data": {
      "text/latex": [
       "$1.476625 \\; \\mathrm{km}$"
      ],
      "text/plain": [
       "<Quantity 1.47662504 km>"
      ]
     },
     "execution_count": 32,
     "metadata": {},
     "output_type": "execute_result"
    }
   ],
   "source": [
    "(c.M_sun * c.G / c.c ** 2).to(\"km\")"
   ]
  },
  {
   "cell_type": "code",
   "execution_count": 34,
   "id": "urban-windsor",
   "metadata": {},
   "outputs": [
    {
     "data": {
      "text/latex": [
       "$4.9254909 \\times 10^{-6} \\; \\mathrm{s}$"
      ],
      "text/plain": [
       "<Quantity 4.92549095e-06 s>"
      ]
     },
     "execution_count": 34,
     "metadata": {},
     "output_type": "execute_result"
    }
   ],
   "source": [
    "(c.M_sun * c.G / c.c ** 3).to(\"s\")"
   ]
  },
  {
   "cell_type": "markdown",
   "id": "caring-thickness",
   "metadata": {},
   "source": [
    "Mass of Sun (in standard mass units) = $2 \\times 10^{30}$ kg "
   ]
  },
  {
   "cell_type": "markdown",
   "id": "recreational-spice",
   "metadata": {},
   "source": [
    "We use the conversion factor $G/c^2$. Mass of Sun (in standard length units) = $1.5$ km"
   ]
  },
  {
   "cell_type": "markdown",
   "id": "optical-garbage",
   "metadata": {},
   "source": [
    "We use the conversion factor $G/c^3$. Mass of Sun (in standard time units) = $5 \\times 10^{-6}$ s "
   ]
  },
  {
   "cell_type": "markdown",
   "id": "encouraging-kernel",
   "metadata": {},
   "source": [
    "# Question 4"
   ]
  },
  {
   "cell_type": "markdown",
   "id": "grave-anthropology",
   "metadata": {},
   "source": [
    "Frequency of gravitational wave emission is twice the orbital frequency, that is $f_{GW} = 2 f_o$. As time period $T = 1/f$, we get that 0.1 s = $T_o = 1/f_o = 2 / f_{GW}$. Finally, this gives us frequency of GWs emitted is 20 Hz."
   ]
  },
  {
   "cell_type": "markdown",
   "id": "fiscal-fourth",
   "metadata": {},
   "source": [
    "# Question 5"
   ]
  },
  {
   "cell_type": "code",
   "execution_count": 49,
   "id": "sharing-tattoo",
   "metadata": {},
   "outputs": [],
   "source": [
    "T = 0.1 * u.s\n",
    "m1 = 1.4 * c.M_sun\n",
    "m2 = 1.4 * c.M_sun"
   ]
  },
  {
   "cell_type": "markdown",
   "id": "spoken-mission",
   "metadata": {},
   "source": [
    "By Kepler's Third law, $\\frac{a^3}{T^2} = \\frac{G (m_1 + m_2)}{4\\pi^2}$. So, we can write $a = (\\frac{G (m_1 + m_2)T^2}{4\\pi^2})^{1/3}$."
   ]
  },
  {
   "cell_type": "code",
   "execution_count": 57,
   "id": "dependent-speaking",
   "metadata": {},
   "outputs": [
    {
     "data": {
      "text/latex": [
       "$454.88677 \\; \\mathrm{km}$"
      ],
      "text/plain": [
       "<Quantity 454.8867738 km>"
      ]
     },
     "execution_count": 57,
     "metadata": {},
     "output_type": "execute_result"
    }
   ],
   "source": [
    "a = (((c.G * (m1 + m2) * T ** 2) / (4 * np.pi ** 2)) ** (1/3))\n",
    "a.to('km')"
   ]
  },
  {
   "cell_type": "markdown",
   "id": "unavailable-trail",
   "metadata": {},
   "source": [
    "So, semi-major axis is $a$ ~ 455 km, while the radial separation between the two neutron stars is $2s$ ~ 910 km."
   ]
  },
  {
   "cell_type": "markdown",
   "id": "amended-batch",
   "metadata": {},
   "source": [
    "To get velocity, we note that as we have circular orbits ($\\dot{r}$ = 0), the gravitational force provides the centripedal force needed. Thus, $\\frac{G m_1 m_2}{d^2} = \\frac{m_1 v^2}{r}$, or $v^2 = \\frac{G m_2 a}{(2a)^2} = \\frac{G m}{4a}$."
   ]
  },
  {
   "cell_type": "code",
   "execution_count": 59,
   "id": "dirty-accuracy",
   "metadata": {},
   "outputs": [
    {
     "data": {
      "text/latex": [
       "$10105043 \\; \\mathrm{\\frac{m}{s}}$"
      ],
      "text/plain": [
       "<Quantity 10105043.43048236 m / s>"
      ]
     },
     "execution_count": 59,
     "metadata": {},
     "output_type": "execute_result"
    }
   ],
   "source": [
    "v = (c.G * m1 / (4 * a)) ** (1/2)\n",
    "v"
   ]
  },
  {
   "cell_type": "code",
   "execution_count": 60,
   "id": "formal-frontier",
   "metadata": {},
   "outputs": [
    {
     "data": {
      "text/latex": [
       "$0.033706797 \\; \\mathrm{}$"
      ],
      "text/plain": [
       "<Quantity 0.0337068>"
      ]
     },
     "execution_count": 60,
     "metadata": {},
     "output_type": "execute_result"
    }
   ],
   "source": [
    "v/c.c"
   ]
  },
  {
   "cell_type": "markdown",
   "id": "empty-solid",
   "metadata": {},
   "source": [
    "So, we get a velocity $v \\approx 10^{7}$ m/s and $v/c \\approx 0.034$. "
   ]
  },
  {
   "cell_type": "markdown",
   "id": "wrong-joshua",
   "metadata": {},
   "source": [
    "# Question 6"
   ]
  },
  {
   "cell_type": "code",
   "execution_count": 64,
   "id": "historic-suspension",
   "metadata": {},
   "outputs": [
    {
     "data": {
      "text/latex": [
       "$1.4212822 \\times 10^{51} \\; \\mathrm{erg}$"
      ],
      "text/plain": [
       "<Quantity 1.42128221e+51 erg>"
      ]
     },
     "execution_count": 64,
     "metadata": {},
     "output_type": "execute_result"
    }
   ],
   "source": [
    "ke = 1/2 * m1 * v ** 2\n",
    "ke.to('erg')"
   ]
  },
  {
   "cell_type": "code",
   "execution_count": 68,
   "id": "hybrid-brush",
   "metadata": {},
   "outputs": [
    {
     "data": {
      "text/latex": [
       "$-5.6851288 \\times 10^{51} \\; \\mathrm{erg}$"
      ],
      "text/plain": [
       "<Quantity -5.68512883e+51 erg>"
      ]
     },
     "execution_count": 68,
     "metadata": {},
     "output_type": "execute_result"
    }
   ],
   "source": [
    "pe = - c.G * m1 * m2 / (2 * a)\n",
    "pe.to('erg')"
   ]
  },
  {
   "cell_type": "markdown",
   "id": "driven-aside",
   "metadata": {},
   "source": [
    "So, we get that Kinetic Energy $T \\approx 1.42 \\times 10^{51}$ erg, and Potential Energy $V \\approx - 5.69 \\times 10^{51}$ erg"
   ]
  },
  {
   "cell_type": "code",
   "execution_count": 70,
   "id": "surrounded-alexandria",
   "metadata": {},
   "outputs": [
    {
     "data": {
      "text/latex": [
       "$1.2796036 \\times 10^{43} \\; \\mathrm{\\frac{m^{2}\\,kg}{s}}$"
      ],
      "text/plain": [
       "<Quantity 1.27960356e+43 kg m2 / s>"
      ]
     },
     "execution_count": 70,
     "metadata": {},
     "output_type": "execute_result"
    }
   ],
   "source": [
    "L = m1 * v * a\n",
    "L"
   ]
  },
  {
   "cell_type": "markdown",
   "id": "married-committee",
   "metadata": {},
   "source": [
    "Angular momentum $L \\approx 1.28 \\times 10^{43}$ kg m$^2$/ s"
   ]
  },
  {
   "cell_type": "markdown",
   "id": "recognized-clearance",
   "metadata": {},
   "source": [
    "# Question 7"
   ]
  },
  {
   "cell_type": "code",
   "execution_count": 72,
   "id": "irish-central",
   "metadata": {},
   "outputs": [
    {
     "data": {
      "text/latex": [
       "$12.40365 \\; \\mathrm{km}$"
      ],
      "text/plain": [
       "<Quantity 12.40365032 km>"
      ]
     },
     "execution_count": 72,
     "metadata": {},
     "output_type": "execute_result"
    }
   ],
   "source": [
    "aICSO = 6 * c.G * m1 / (c.c ** 2)\n",
    "aICSO.to('km')"
   ]
  },
  {
   "cell_type": "markdown",
   "id": "loaded-warren",
   "metadata": {},
   "source": [
    "ICSO is the smallest circular orbit (lowest possible radius $r$) at which a test particle may orbit a massive object, for general relativity. $a_{ICSO} = \\frac{6GM}{c^2}$. For our case with $M = 1.4 M_\\odot$, we have $a_{ICSO} = 12.4$ km."
   ]
  },
  {
   "cell_type": "markdown",
   "id": "norman-incidence",
   "metadata": {},
   "source": [
    "# Question 8"
   ]
  },
  {
   "cell_type": "code",
   "execution_count": null,
   "id": "nasty-thong",
   "metadata": {},
   "outputs": [],
   "source": []
  }
 ],
 "metadata": {
  "kernelspec": {
   "display_name": "Python 3",
   "language": "python",
   "name": "python3"
  },
  "language_info": {
   "codemirror_mode": {
    "name": "ipython",
    "version": 3
   },
   "file_extension": ".py",
   "mimetype": "text/x-python",
   "name": "python",
   "nbconvert_exporter": "python",
   "pygments_lexer": "ipython3",
   "version": "3.8.8"
  }
 },
 "nbformat": 4,
 "nbformat_minor": 5
}
