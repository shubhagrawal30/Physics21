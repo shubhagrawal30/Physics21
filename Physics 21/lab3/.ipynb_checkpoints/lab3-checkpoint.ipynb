{
 "cells": [
  {
   "cell_type": "markdown",
   "id": "specified-calendar",
   "metadata": {},
   "source": [
    "# Physics 21, Spring 2020\n",
    "## Assignment 3: LIGO Inspirals"
   ]
  },
  {
   "cell_type": "code",
   "execution_count": 53,
   "id": "figured-benchmark",
   "metadata": {},
   "outputs": [],
   "source": [
    "from astropy import constants as c\n",
    "from matplotlib import pyplot as pl\n",
    "from astropy import units as u\n",
    "import numpy as np"
   ]
  },
  {
   "cell_type": "markdown",
   "id": "palestinian-chemistry",
   "metadata": {},
   "source": [
    "# Question 1"
   ]
  },
  {
   "cell_type": "code",
   "execution_count": 45,
   "id": "incomplete-compromise",
   "metadata": {},
   "outputs": [
    {
     "data": {
      "text/latex": [
       "$1.9884099 \\times 10^{30} \\; \\mathrm{kg}$"
      ],
      "text/plain": [
       "<<class 'astropy.constants.iau2015.IAU2015'> name='Solar mass' value=1.988409870698051e+30 uncertainty=4.468805426856864e+25 unit='kg' reference='IAU 2015 Resolution B 3 + CODATA 2018'>"
      ]
     },
     "execution_count": 45,
     "metadata": {},
     "output_type": "execute_result"
    }
   ],
   "source": [
    "c.M_sun"
   ]
  },
  {
   "cell_type": "code",
   "execution_count": 42,
   "id": "distinct-flash",
   "metadata": {},
   "outputs": [
    {
     "data": {
      "text/latex": [
       "$1.6749275 \\times 10^{-27} \\; \\mathrm{kg}$"
      ],
      "text/plain": [
       "<<class 'astropy.constants.codata2018.CODATA2018'> name='Neutron mass' value=1.67492749804e-27 uncertainty=9.5e-37 unit='kg' reference='CODATA 2018'>"
      ]
     },
     "execution_count": 42,
     "metadata": {},
     "output_type": "execute_result"
    }
   ],
   "source": [
    "c.m_n"
   ]
  },
  {
   "cell_type": "code",
   "execution_count": 43,
   "id": "separated-enforcement",
   "metadata": {},
   "outputs": [
    {
     "data": {
      "text/latex": [
       "$1.6726219 \\times 10^{-27} \\; \\mathrm{kg}$"
      ],
      "text/plain": [
       "<<class 'astropy.constants.codata2018.CODATA2018'> name='Proton mass' value=1.67262192369e-27 uncertainty=5.1e-37 unit='kg' reference='CODATA 2018'>"
      ]
     },
     "execution_count": 43,
     "metadata": {},
     "output_type": "execute_result"
    }
   ],
   "source": [
    "c.m_p"
   ]
  },
  {
   "cell_type": "code",
   "execution_count": 44,
   "id": "capable-interview",
   "metadata": {},
   "outputs": [
    {
     "data": {
      "text/latex": [
       "$1.9020771 \\times 10^{57} \\; \\mathrm{}$"
      ],
      "text/plain": [
       "<Quantity 1.90207706e+57>"
      ]
     },
     "execution_count": 44,
     "metadata": {},
     "output_type": "execute_result"
    }
   ],
   "source": [
    "1.6 * c.M_sun / ((c.m_p + c.m_p) / 2)"
   ]
  },
  {
   "cell_type": "markdown",
   "id": "unusual-finance",
   "metadata": {},
   "source": [
    "From the assignment, we know that the mass of a neutron star is about $1-2.2$ $M_\\odot$ ~ 1.6 $M_\\odot$. As mass of neutron stars is almost entirely just due to protons and neutrons (which are approximately the same mass), we can write the number of nucleons in the neutron star to be $$\\frac{1.6 M_\\odot}{(m_n + m_p) / 2} \\approx 2 \\times 10^{57}$$"
   ]
  },
  {
   "cell_type": "markdown",
   "id": "caroline-chase",
   "metadata": {},
   "source": [
    "# Question 2"
   ]
  },
  {
   "cell_type": "code",
   "execution_count": 22,
   "id": "julian-walnut",
   "metadata": {},
   "outputs": [
    {
     "data": {
      "text/latex": [
       "$695700 \\; \\mathrm{km}$"
      ],
      "text/plain": [
       "<Quantity 695700. km>"
      ]
     },
     "execution_count": 22,
     "metadata": {},
     "output_type": "execute_result"
    }
   ],
   "source": [
    "c.R_sun.to('km')"
   ]
  },
  {
   "cell_type": "code",
   "execution_count": 47,
   "id": "considerable-recognition",
   "metadata": {},
   "outputs": [
    {
     "data": {
      "text/latex": [
       "$88.597502 \\; \\mathrm{km}$"
      ],
      "text/plain": [
       "<Quantity 88.59750228 km>"
      ]
     },
     "execution_count": 47,
     "metadata": {},
     "output_type": "execute_result"
    }
   ],
   "source": [
    "(2 * c.G * 30 * c.M_sun / c.c ** 2).to('km')"
   ]
  },
  {
   "cell_type": "markdown",
   "id": "environmental-limitation",
   "metadata": {},
   "source": [
    "Radius of the Sun = $6.957\\times 10^5$ km. \n",
    "\n",
    "Radius of neutron stars ~ 10 km.\n",
    "\n",
    "Radius (Schwarzschild) of black holes (~ 30 $M_\\odot$) ~ 90 km."
   ]
  },
  {
   "cell_type": "markdown",
   "id": "explicit-action",
   "metadata": {},
   "source": [
    "# Question 3"
   ]
  },
  {
   "cell_type": "code",
   "execution_count": 46,
   "id": "intended-garden",
   "metadata": {},
   "outputs": [
    {
     "data": {
      "text/latex": [
       "$1.9884099 \\times 10^{30} \\; \\mathrm{kg}$"
      ],
      "text/plain": [
       "<<class 'astropy.constants.iau2015.IAU2015'> name='Solar mass' value=1.988409870698051e+30 uncertainty=4.468805426856864e+25 unit='kg' reference='IAU 2015 Resolution B 3 + CODATA 2018'>"
      ]
     },
     "execution_count": 46,
     "metadata": {},
     "output_type": "execute_result"
    }
   ],
   "source": [
    "c.M_sun"
   ]
  },
  {
   "cell_type": "code",
   "execution_count": 40,
   "id": "bright-aquarium",
   "metadata": {},
   "outputs": [
    {
     "data": {
      "text/latex": [
       "$6.6743 \\times 10^{-11} \\; \\mathrm{\\frac{m^{3}}{kg\\,s^{2}}}$"
      ],
      "text/plain": [
       "<<class 'astropy.constants.codata2018.CODATA2018'> name='Gravitational constant' value=6.6743e-11 uncertainty=1.5e-15 unit='m3 / (kg s2)' reference='CODATA 2018'>"
      ]
     },
     "execution_count": 40,
     "metadata": {},
     "output_type": "execute_result"
    }
   ],
   "source": [
    "c.G"
   ]
  },
  {
   "cell_type": "code",
   "execution_count": 41,
   "id": "moderate-aurora",
   "metadata": {},
   "outputs": [
    {
     "data": {
      "text/latex": [
       "$2.9979246 \\times 10^{8} \\; \\mathrm{\\frac{m}{s}}$"
      ],
      "text/plain": [
       "<<class 'astropy.constants.codata2018.CODATA2018'> name='Speed of light in vacuum' value=299792458.0 uncertainty=0.0 unit='m / s' reference='CODATA 2018'>"
      ]
     },
     "execution_count": 41,
     "metadata": {},
     "output_type": "execute_result"
    }
   ],
   "source": [
    "c.c"
   ]
  },
  {
   "cell_type": "code",
   "execution_count": 32,
   "id": "spoken-wealth",
   "metadata": {},
   "outputs": [
    {
     "data": {
      "text/latex": [
       "$1.476625 \\; \\mathrm{km}$"
      ],
      "text/plain": [
       "<Quantity 1.47662504 km>"
      ]
     },
     "execution_count": 32,
     "metadata": {},
     "output_type": "execute_result"
    }
   ],
   "source": [
    "(c.M_sun * c.G / c.c ** 2).to(\"km\")"
   ]
  },
  {
   "cell_type": "code",
   "execution_count": 34,
   "id": "laden-mission",
   "metadata": {},
   "outputs": [
    {
     "data": {
      "text/latex": [
       "$4.9254909 \\times 10^{-6} \\; \\mathrm{s}$"
      ],
      "text/plain": [
       "<Quantity 4.92549095e-06 s>"
      ]
     },
     "execution_count": 34,
     "metadata": {},
     "output_type": "execute_result"
    }
   ],
   "source": [
    "(c.M_sun * c.G / c.c ** 3).to(\"s\")"
   ]
  },
  {
   "cell_type": "markdown",
   "id": "saving-therapist",
   "metadata": {},
   "source": [
    "Mass of Sun (in standard mass units) = $2 \\times 10^{30}$ kg "
   ]
  },
  {
   "cell_type": "markdown",
   "id": "checked-communist",
   "metadata": {},
   "source": [
    "We use the conversion factor $G/c^2$. Mass of Sun (in standard length units) = $1.5$ km"
   ]
  },
  {
   "cell_type": "markdown",
   "id": "bored-production",
   "metadata": {},
   "source": [
    "We use the conversion factor $G/c^3$. Mass of Sun (in standard time units) = $5 \\times 10^{-6}$ s "
   ]
  },
  {
   "cell_type": "markdown",
   "id": "guided-memorial",
   "metadata": {},
   "source": [
    "# Question 4"
   ]
  },
  {
   "cell_type": "markdown",
   "id": "listed-vampire",
   "metadata": {},
   "source": [
    "Frequency of gravitational wave emission is twice the orbital frequency, that is $f_{GW} = 2 f_o$. As time period $T = 1/f$, we get that 0.1 s = $T_o = 1/f_o = 2 / f_{GW}$. Finally, this gives us frequency of GWs emitted is 20 Hz."
   ]
  },
  {
   "cell_type": "markdown",
   "id": "adolescent-latvia",
   "metadata": {},
   "source": [
    "# Question 5"
   ]
  },
  {
   "cell_type": "code",
   "execution_count": 49,
   "id": "stretch-probability",
   "metadata": {},
   "outputs": [],
   "source": [
    "T = 0.1 * u.s\n",
    "m1 = 1.4 * c.M_sun\n",
    "m2 = 1.4 * c.M_sun"
   ]
  },
  {
   "cell_type": "markdown",
   "id": "expensive-summer",
   "metadata": {},
   "source": [
    "By Kepler's Third law, $\\frac{a^3}{T^2} = \\frac{G (m_1 + m_2)}{4\\pi^2}$. So, we can write $a = (\\frac{G (m_1 + m_2)T^2}{4\\pi^2})^{1/3}$."
   ]
  },
  {
   "cell_type": "code",
   "execution_count": 57,
   "id": "loving-billy",
   "metadata": {},
   "outputs": [
    {
     "data": {
      "text/latex": [
       "$454.88677 \\; \\mathrm{km}$"
      ],
      "text/plain": [
       "<Quantity 454.8867738 km>"
      ]
     },
     "execution_count": 57,
     "metadata": {},
     "output_type": "execute_result"
    }
   ],
   "source": [
    "a = (((c.G * (m1 + m2) * T ** 2) / (4 * np.pi ** 2)) ** (1/3))\n",
    "a.to('km')"
   ]
  },
  {
   "cell_type": "markdown",
   "id": "grateful-contents",
   "metadata": {},
   "source": [
    "So, semi-major axis is $a$ ~ 455 km, while the radial separation between the two neutron stars is $2s$ ~ 910 km."
   ]
  },
  {
   "cell_type": "markdown",
   "id": "complex-principal",
   "metadata": {},
   "source": [
    "To get velocity, we note that as we have circular orbits ($\\dot{r}$ = 0), the gravitational force provides the centripedal force needed. Thus, $\\frac{G m_1 m_2}{d^2} = \\frac{m_1 v^2}{r}$, or $v^2 = \\frac{G m_2 a}{(2a)^2} = \\frac{G m}{4a}$."
   ]
  },
  {
   "cell_type": "code",
   "execution_count": 87,
   "id": "muslim-smith",
   "metadata": {},
   "outputs": [
    {
     "data": {
      "text/latex": [
       "$10105.043 \\; \\mathrm{\\frac{km}{s}}$"
      ],
      "text/plain": [
       "<Quantity 10105.04343048 km / s>"
      ]
     },
     "execution_count": 87,
     "metadata": {},
     "output_type": "execute_result"
    }
   ],
   "source": [
    "v = (c.G * m1 / (4 * a)) ** (1/2)\n",
    "v.to('km/s')"
   ]
  },
  {
   "cell_type": "code",
   "execution_count": 83,
   "id": "attractive-tuition",
   "metadata": {},
   "outputs": [
    {
     "data": {
      "text/latex": [
       "$0.033706797 \\; \\mathrm{}$"
      ],
      "text/plain": [
       "<Quantity 0.0337068>"
      ]
     },
     "execution_count": 83,
     "metadata": {},
     "output_type": "execute_result"
    }
   ],
   "source": [
    "v / c.c"
   ]
  },
  {
   "cell_type": "markdown",
   "id": "desirable-complexity",
   "metadata": {},
   "source": [
    "So, we get a velocity $v \\approx 10^{5}$ km/s and $v/c \\approx 0.034$. "
   ]
  },
  {
   "cell_type": "markdown",
   "id": "fantastic-timer",
   "metadata": {},
   "source": [
    "# Question 6"
   ]
  },
  {
   "cell_type": "code",
   "execution_count": 64,
   "id": "charming-steal",
   "metadata": {},
   "outputs": [
    {
     "data": {
      "text/latex": [
       "$1.4212822 \\times 10^{51} \\; \\mathrm{erg}$"
      ],
      "text/plain": [
       "<Quantity 1.42128221e+51 erg>"
      ]
     },
     "execution_count": 64,
     "metadata": {},
     "output_type": "execute_result"
    }
   ],
   "source": [
    "ke = 1/2 * m1 * v ** 2\n",
    "ke.to('erg')"
   ]
  },
  {
   "cell_type": "code",
   "execution_count": 68,
   "id": "ranging-supervisor",
   "metadata": {},
   "outputs": [
    {
     "data": {
      "text/latex": [
       "$-5.6851288 \\times 10^{51} \\; \\mathrm{erg}$"
      ],
      "text/plain": [
       "<Quantity -5.68512883e+51 erg>"
      ]
     },
     "execution_count": 68,
     "metadata": {},
     "output_type": "execute_result"
    }
   ],
   "source": [
    "pe = - c.G * m1 * m2 / (2 * a)\n",
    "pe.to('erg')"
   ]
  },
  {
   "cell_type": "markdown",
   "id": "governmental-affair",
   "metadata": {},
   "source": [
    "So, we get that Kinetic Energy $T \\approx 1.42 \\times 10^{51}$ erg, and Potential Energy $V \\approx - 5.69 \\times 10^{51}$ erg."
   ]
  },
  {
   "cell_type": "code",
   "execution_count": 70,
   "id": "satisfactory-elimination",
   "metadata": {},
   "outputs": [
    {
     "data": {
      "text/latex": [
       "$1.2796036 \\times 10^{43} \\; \\mathrm{\\frac{m^{2}\\,kg}{s}}$"
      ],
      "text/plain": [
       "<Quantity 1.27960356e+43 kg m2 / s>"
      ]
     },
     "execution_count": 70,
     "metadata": {},
     "output_type": "execute_result"
    }
   ],
   "source": [
    "L = m1 * v * a\n",
    "L"
   ]
  },
  {
   "cell_type": "markdown",
   "id": "young-conclusion",
   "metadata": {},
   "source": [
    "Angular momentum $L \\approx 1.28 \\times 10^{43}$ kg m$^2$/ s."
   ]
  },
  {
   "cell_type": "markdown",
   "id": "selective-atlanta",
   "metadata": {},
   "source": [
    "# Question 7"
   ]
  },
  {
   "cell_type": "code",
   "execution_count": 73,
   "id": "racial-article",
   "metadata": {},
   "outputs": [
    {
     "data": {
      "text/latex": [
       "$12.40365 \\; \\mathrm{km}$"
      ],
      "text/plain": [
       "<Quantity 12.40365032 km>"
      ]
     },
     "execution_count": 73,
     "metadata": {},
     "output_type": "execute_result"
    }
   ],
   "source": [
    "a_ICSO = 6 * c.G * m1 / (c.c ** 2)\n",
    "a_ICSO.to('km')"
   ]
  },
  {
   "cell_type": "markdown",
   "id": "packed-employment",
   "metadata": {},
   "source": [
    "ICSO is the smallest circular orbit (lowest possible radius $r$) at which a test particle may orbit a massive object, for general relativity. $a_{ICSO} = \\frac{6GM}{c^2}$. For our case with $M = 1.4 M_\\odot$, we have $a_{ICSO} = 12.4$ km."
   ]
  },
  {
   "cell_type": "markdown",
   "id": "efficient-pension",
   "metadata": {},
   "source": [
    "# Question 8"
   ]
  },
  {
   "cell_type": "markdown",
   "id": "secure-community",
   "metadata": {},
   "source": [
    "Again, from Kepler's Third law, we have $\\frac{a^3}{T^2} = \\frac{G (m_1 + m_2)}{4\\pi^2}$. So, we can write $T = (\\frac{4\\pi^2 a^3}{G (m_1 + m_2)})^{1/2}$."
   ]
  },
  {
   "cell_type": "code",
   "execution_count": 76,
   "id": "starting-glucose",
   "metadata": {},
   "outputs": [
    {
     "data": {
      "text/latex": [
       "$0.00045026616 \\; \\mathrm{s}$"
      ],
      "text/plain": [
       "<Quantity 0.00045027 s>"
      ]
     },
     "execution_count": 76,
     "metadata": {},
     "output_type": "execute_result"
    }
   ],
   "source": [
    "T_ICSO = (4 * np.pi ** 2 * a_ICSO ** 3 / (c.G * (m1 + m2))) ** (1/2)\n",
    "T_ICSO"
   ]
  },
  {
   "cell_type": "code",
   "execution_count": 78,
   "id": "seventh-tract",
   "metadata": {},
   "outputs": [
    {
     "data": {
      "text/latex": [
       "$2220.9086 \\; \\mathrm{Hz}$"
      ],
      "text/plain": [
       "<Quantity 2220.90863665 Hz>"
      ]
     },
     "execution_count": 78,
     "metadata": {},
     "output_type": "execute_result"
    }
   ],
   "source": [
    "f_ICSO = 1/T_ICSO\n",
    "f_ICSO.to('Hz')"
   ]
  },
  {
   "cell_type": "code",
   "execution_count": 79,
   "id": "continued-charity",
   "metadata": {},
   "outputs": [
    {
     "data": {
      "text/latex": [
       "$4441.8173 \\; \\mathrm{Hz}$"
      ],
      "text/plain": [
       "<Quantity 4441.8172733 Hz>"
      ]
     },
     "execution_count": 79,
     "metadata": {},
     "output_type": "execute_result"
    }
   ],
   "source": [
    "fGW_ICSO = 2 * f_ICSO\n",
    "fGW_ICSO.to('Hz')"
   ]
  },
  {
   "cell_type": "markdown",
   "id": "cleared-nursery",
   "metadata": {},
   "source": [
    "We get: time period $T = 0.00045$ s, orbital frequency $f_o = 2220.9$ Hz, and GW frequency $4441.8$ Hz."
   ]
  },
  {
   "cell_type": "markdown",
   "id": "fitted-harvard",
   "metadata": {},
   "source": [
    "# Question 9"
   ]
  },
  {
   "cell_type": "code",
   "execution_count": 81,
   "id": "reduced-crowd",
   "metadata": {},
   "outputs": [
    {
     "data": {
      "text/latex": [
       "$24.807301 \\; \\mathrm{km}$"
      ],
      "text/plain": [
       "<Quantity 24.80730064 km>"
      ]
     },
     "execution_count": 81,
     "metadata": {},
     "output_type": "execute_result"
    }
   ],
   "source": [
    "(2 * a_ICSO).to('km')"
   ]
  },
  {
   "cell_type": "markdown",
   "id": "powered-purple",
   "metadata": {},
   "source": [
    "We have semi-major axis $a_{ICSO} = 12.4$ km, and radial separation $2 a_{ICSO} = 24.8$ km."
   ]
  },
  {
   "cell_type": "markdown",
   "id": "minor-cotton",
   "metadata": {},
   "source": [
    "To get velocity, we note that as we have circular orbits ($\\dot{r}$ = 0), the gravitational force provides the centripedal force needed. Thus, $\\frac{G m_1 m_2}{d^2} = \\frac{m_1 v^2}{r}$, or $v^2 = \\frac{G m_2 a}{(2a)^2} = \\frac{G m}{4a}$."
   ]
  },
  {
   "cell_type": "code",
   "execution_count": 88,
   "id": "postal-wound",
   "metadata": {},
   "outputs": [
    {
     "data": {
      "text/latex": [
       "$61194.879 \\; \\mathrm{\\frac{km}{s}}$"
      ],
      "text/plain": [
       "<Quantity 61194.87923623 km / s>"
      ]
     },
     "execution_count": 88,
     "metadata": {},
     "output_type": "execute_result"
    }
   ],
   "source": [
    "v_ICSO = (c.G * m1 / (4 * a_ICSO)) ** (1/2)\n",
    "v_ICSO.to('km/s')"
   ]
  },
  {
   "cell_type": "code",
   "execution_count": 85,
   "id": "naughty-kentucky",
   "metadata": {},
   "outputs": [
    {
     "data": {
      "text/latex": [
       "$0.20412415 \\; \\mathrm{}$"
      ],
      "text/plain": [
       "<Quantity 0.20412415>"
      ]
     },
     "execution_count": 85,
     "metadata": {},
     "output_type": "execute_result"
    }
   ],
   "source": [
    "v_ICSO / c.c"
   ]
  },
  {
   "cell_type": "markdown",
   "id": "amber-netscape",
   "metadata": {},
   "source": [
    "So, we get a velocity $v_{ICSO} \\approx 6.12 \\times 10^{5}$ km/s and $v_{ICSO}/c \\approx 0.20$. "
   ]
  },
  {
   "cell_type": "markdown",
   "id": "radical-sperm",
   "metadata": {},
   "source": [
    "# Question 10"
   ]
  },
  {
   "cell_type": "code",
   "execution_count": 89,
   "id": "median-retailer",
   "metadata": {},
   "outputs": [
    {
     "data": {
      "text/latex": [
       "$5.2123565 \\times 10^{52} \\; \\mathrm{erg}$"
      ],
      "text/plain": [
       "<Quantity 5.21235653e+52 erg>"
      ]
     },
     "execution_count": 89,
     "metadata": {},
     "output_type": "execute_result"
    }
   ],
   "source": [
    "ke_ICSO = 1/2 * m1 * v_ICSO ** 2\n",
    "ke_ICSO.to('erg')"
   ]
  },
  {
   "cell_type": "code",
   "execution_count": 90,
   "id": "standard-induction",
   "metadata": {},
   "outputs": [
    {
     "data": {
      "text/latex": [
       "$-2.0849426 \\times 10^{53} \\; \\mathrm{erg}$"
      ],
      "text/plain": [
       "<Quantity -2.08494261e+53 erg>"
      ]
     },
     "execution_count": 90,
     "metadata": {},
     "output_type": "execute_result"
    }
   ],
   "source": [
    "pe_ICSO = - c.G * m1 * m2 / (2 * a_ICSO)\n",
    "pe_ICSO.to('erg')"
   ]
  },
  {
   "cell_type": "markdown",
   "id": "familiar-framing",
   "metadata": {},
   "source": [
    "So, we get that Kinetic Energy $T_{ICSO} \\approx 5.21 \\times 10^{52}$ erg, and Potential Energy $V_{ICSO} \\approx - 2.08 \\times 10^{53}$ erg."
   ]
  },
  {
   "cell_type": "code",
   "execution_count": 92,
   "id": "peripheral-eugene",
   "metadata": {},
   "outputs": [
    {
     "data": {
      "text/latex": [
       "$2.1129954 \\times 10^{42} \\; \\mathrm{\\frac{m^{2}\\,kg}{s}}$"
      ],
      "text/plain": [
       "<Quantity 2.11299535e+42 kg m2 / s>"
      ]
     },
     "execution_count": 92,
     "metadata": {},
     "output_type": "execute_result"
    }
   ],
   "source": [
    "L_ICSO = m1 * v_ICSO * a_ICSO\n",
    "L_ICSO"
   ]
  },
  {
   "cell_type": "markdown",
   "id": "proved-writing",
   "metadata": {},
   "source": [
    "Angular momentum $L_{ICSO} \\approx 2.11 \\times 10^{42}$ kg m$^2$/ s"
   ]
  },
  {
   "cell_type": "markdown",
   "id": "grave-creature",
   "metadata": {},
   "source": [
    "# Question 11 "
   ]
  },
  {
   "cell_type": "code",
   "execution_count": 94,
   "id": "sized-hughes",
   "metadata": {},
   "outputs": [
    {
     "data": {
      "text/latex": [
       "$-1.5210685 \\times 10^{53} \\; \\mathrm{erg}$"
      ],
      "text/plain": [
       "<Quantity -1.52106849e+53 erg>"
      ]
     },
     "execution_count": 94,
     "metadata": {},
     "output_type": "execute_result"
    }
   ],
   "source": [
    "deltaE = (pe_ICSO + ke_ICSO) - (ke + pe)\n",
    "deltaE.to('erg')"
   ]
  },
  {
   "cell_type": "markdown",
   "id": "owned-packing",
   "metadata": {},
   "source": [
    "As this term is negative, this $|\\Delta E| = 1.52 \\times 10^{53}$ erg is lost, in the form of gravitational wave radiation. "
   ]
  },
  {
   "cell_type": "markdown",
   "id": "genuine-crowd",
   "metadata": {},
   "source": [
    "# Question 12"
   ]
  },
  {
   "cell_type": "code",
   "execution_count": 98,
   "id": "distinguished-delicious",
   "metadata": {},
   "outputs": [
    {
     "data": {
      "text/latex": [
       "$1.2712701 \\; \\mathrm{\\frac{J}{m^{2}}}$"
      ],
      "text/plain": [
       "<Quantity 1.27127005 J / m2>"
      ]
     },
     "execution_count": 98,
     "metadata": {},
     "output_type": "execute_result"
    }
   ],
   "source": [
    "flux = np.abs(deltaE) / (4 * np.pi * (1 * u.Mpc) ** 2)\n",
    "flux.to('J/m^2')"
   ]
  },
  {
   "cell_type": "markdown",
   "id": "tropical-macintosh",
   "metadata": {},
   "source": [
    "We assume that this energy $|\\Delta E|$ is radiated in a spherically symmetrical manner. Then, the flux (energy per unit area) at $D=1$ Mpc is given as: $\\frac{|\\Delta E|}{4\\pi D^2} = 1.27$ J/m$^2$."
   ]
  },
  {
   "cell_type": "markdown",
   "id": "genetic-catering",
   "metadata": {},
   "source": [
    "# Question 13"
   ]
  },
  {
   "cell_type": "code",
   "execution_count": null,
   "id": "straight-platinum",
   "metadata": {},
   "outputs": [],
   "source": []
  }
 ],
 "metadata": {
  "kernelspec": {
   "display_name": "Python 3",
   "language": "python",
   "name": "python3"
  },
  "language_info": {
   "codemirror_mode": {
    "name": "ipython",
    "version": 3
   },
   "file_extension": ".py",
   "mimetype": "text/x-python",
   "name": "python",
   "nbconvert_exporter": "python",
   "pygments_lexer": "ipython3",
   "version": "3.8.8"
  }
 },
 "nbformat": 4,
 "nbformat_minor": 5
}
