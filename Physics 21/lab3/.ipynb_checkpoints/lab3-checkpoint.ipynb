{
 "cells": [
  {
   "cell_type": "markdown",
   "id": "peripheral-attack",
   "metadata": {},
   "source": [
    "# Physics 21, Spring 2020\n",
    "## Assignment 3: LIGO Inspirals"
   ]
  },
  {
   "cell_type": "code",
   "execution_count": 7,
   "id": "stretch-mills",
   "metadata": {},
   "outputs": [],
   "source": [
    "from astropy import constants as c\n",
    "from matplotlib import pyplot as pl"
   ]
  },
  {
   "cell_type": "markdown",
   "id": "revised-casino",
   "metadata": {},
   "source": [
    "# Question 1"
   ]
  },
  {
   "cell_type": "code",
   "execution_count": 15,
   "id": "headed-crossing",
   "metadata": {},
   "outputs": [
    {
     "data": {
      "text/latex": [
       "$1.9884099 \\times 10^{30} \\; \\mathrm{kg}$"
      ],
      "text/plain": [
       "<<class 'astropy.constants.iau2015.IAU2015'> name='Solar mass' value=1.988409870698051e+30 uncertainty=4.468805426856864e+25 unit='kg' reference='IAU 2015 Resolution B 3 + CODATA 2018'>"
      ]
     },
     "execution_count": 15,
     "metadata": {},
     "output_type": "execute_result"
    }
   ],
   "source": [
    "c.M_sun.to('kg')"
   ]
  },
  {
   "cell_type": "code",
   "execution_count": 16,
   "id": "spare-patient",
   "metadata": {},
   "outputs": [
    {
     "data": {
      "text/latex": [
       "$1.6749275 \\times 10^{-27} \\; \\mathrm{kg}$"
      ],
      "text/plain": [
       "<<class 'astropy.constants.codata2018.CODATA2018'> name='Neutron mass' value=1.67492749804e-27 uncertainty=9.5e-37 unit='kg' reference='CODATA 2018'>"
      ]
     },
     "execution_count": 16,
     "metadata": {},
     "output_type": "execute_result"
    }
   ],
   "source": [
    "c.m_n.to('kg')"
   ]
  },
  {
   "cell_type": "code",
   "execution_count": 17,
   "id": "eligible-manufacturer",
   "metadata": {},
   "outputs": [
    {
     "data": {
      "text/latex": [
       "$1.6726219 \\times 10^{-27} \\; \\mathrm{kg}$"
      ],
      "text/plain": [
       "<<class 'astropy.constants.codata2018.CODATA2018'> name='Proton mass' value=1.67262192369e-27 uncertainty=5.1e-37 unit='kg' reference='CODATA 2018'>"
      ]
     },
     "execution_count": 17,
     "metadata": {},
     "output_type": "execute_result"
    }
   ],
   "source": [
    "c.m_p.to('kg')"
   ]
  },
  {
   "cell_type": "code",
   "execution_count": 18,
   "id": "refined-relations",
   "metadata": {},
   "outputs": [
    {
     "data": {
      "text/latex": [
       "$1.9020771 \\times 10^{57} \\; \\mathrm{}$"
      ],
      "text/plain": [
       "<Quantity 1.90207706e+57>"
      ]
     },
     "execution_count": 18,
     "metadata": {},
     "output_type": "execute_result"
    }
   ],
   "source": [
    "1.6 * c.M_sun / ((c.m_p + c.m_p) / 2).to('')"
   ]
  },
  {
   "cell_type": "markdown",
   "id": "closing-costa",
   "metadata": {},
   "source": [
    "From the assignment, we know that the mass of a neutron star is about $1-2.2$ $M_\\odot$ ~ 1.6 $M_\\odot$. As mass of neutron stars is almost entirely just due to protons and neutrons (which are approximately the same mass), we can write the number of nucleons in the neutron star to be $$\\frac{1.6 M_\\odot}{(m_n + m_p) / 2} \\approx 2 \\times 10^{57}$$"
   ]
  },
  {
   "cell_type": "markdown",
   "id": "banned-vatican",
   "metadata": {},
   "source": [
    "# Question 2"
   ]
  },
  {
   "cell_type": "code",
   "execution_count": 22,
   "id": "premier-vancouver",
   "metadata": {},
   "outputs": [
    {
     "data": {
      "text/latex": [
       "$695700 \\; \\mathrm{km}$"
      ],
      "text/plain": [
       "<Quantity 695700. km>"
      ]
     },
     "execution_count": 22,
     "metadata": {},
     "output_type": "execute_result"
    }
   ],
   "source": [
    "c.R_sun.to('km')"
   ]
  },
  {
   "cell_type": "code",
   "execution_count": 35,
   "id": "assumed-employee",
   "metadata": {},
   "outputs": [
    {
     "data": {
      "text/latex": [
       "$4.1345501 \\; \\mathrm{km}$"
      ],
      "text/plain": [
       "<Quantity 4.13455011 km>"
      ]
     },
     "execution_count": 35,
     "metadata": {},
     "output_type": "execute_result"
    }
   ],
   "source": [
    "(2 * c.G * 1.4 * c.M_sun / c.c ** 2).to('km')"
   ]
  },
  {
   "cell_type": "markdown",
   "id": "strategic-stocks",
   "metadata": {},
   "source": [
    "Radius of the Sun = $6.957\\times 10^5$ km. \n",
    "\n",
    "Radius of neutron stars ~ 10 km.\n",
    "\n",
    "Radius (Schwarzschild) of black holes (~ 1.4 $M_\\odot$) ~ 4.13 km."
   ]
  },
  {
   "cell_type": "markdown",
   "id": "strategic-baltimore",
   "metadata": {},
   "source": [
    "# Question 3"
   ]
  },
  {
   "cell_type": "code",
   "execution_count": 27,
   "id": "alpine-maria",
   "metadata": {},
   "outputs": [
    {
     "data": {
      "text/latex": [
       "$1.9884099 \\times 10^{30} \\; \\mathrm{kg}$"
      ],
      "text/plain": [
       "<Quantity 1.98840987e+30 kg>"
      ]
     },
     "execution_count": 27,
     "metadata": {},
     "output_type": "execute_result"
    }
   ],
   "source": [
    "c.M_sun.to(\"kg\")"
   ]
  },
  {
   "cell_type": "code",
   "execution_count": 39,
   "id": "bulgarian-sarah",
   "metadata": {},
   "outputs": [
    {
     "data": {
      "text/latex": [
       "$6.6743 \\times 10^{-11} \\; \\mathrm{\\frac{m^{3}}{kg\\,s^{2}}}$"
      ],
      "text/plain": [
       "<Quantity 6.6743e-11 m3 / (kg s2)>"
      ]
     },
     "execution_count": 39,
     "metadata": {},
     "output_type": "execute_result"
    }
   ],
   "source": [
    "c.G.to('m^3/(kg s^2)')"
   ]
  },
  {
   "cell_type": "code",
   "execution_count": 36,
   "id": "competitive-latter",
   "metadata": {},
   "outputs": [
    {
     "data": {
      "text/latex": [
       "$2.9979246 \\times 10^{8} \\; \\mathrm{\\frac{m}{s}}$"
      ],
      "text/plain": [
       "<Quantity 2.99792458e+08 m / s>"
      ]
     },
     "execution_count": 36,
     "metadata": {},
     "output_type": "execute_result"
    }
   ],
   "source": [
    "c.c.to('m/s')"
   ]
  },
  {
   "cell_type": "code",
   "execution_count": 32,
   "id": "varied-concert",
   "metadata": {},
   "outputs": [
    {
     "data": {
      "text/latex": [
       "$1.476625 \\; \\mathrm{km}$"
      ],
      "text/plain": [
       "<Quantity 1.47662504 km>"
      ]
     },
     "execution_count": 32,
     "metadata": {},
     "output_type": "execute_result"
    }
   ],
   "source": [
    "(c.M_sun * c.G / c.c ** 2).to(\"km\")"
   ]
  },
  {
   "cell_type": "code",
   "execution_count": 34,
   "id": "current-howard",
   "metadata": {},
   "outputs": [
    {
     "data": {
      "text/latex": [
       "$4.9254909 \\times 10^{-6} \\; \\mathrm{s}$"
      ],
      "text/plain": [
       "<Quantity 4.92549095e-06 s>"
      ]
     },
     "execution_count": 34,
     "metadata": {},
     "output_type": "execute_result"
    }
   ],
   "source": [
    "(c.M_sun * c.G / c.c ** 3).to(\"s\")"
   ]
  },
  {
   "cell_type": "markdown",
   "id": "packed-darwin",
   "metadata": {},
   "source": [
    "Mass of Sun (in standard mass units) = $2 \\times 10^{30}$ kg "
   ]
  },
  {
   "cell_type": "markdown",
   "id": "breeding-nashville",
   "metadata": {},
   "source": [
    "We use the conversion factor $G/c^2$. Mass of Sun (in standard length units) = $1.5$ km"
   ]
  },
  {
   "cell_type": "markdown",
   "id": "square-wallet",
   "metadata": {},
   "source": [
    "We use the conversion factor $G/c^3$. Mass of Sun (in standard time units) = $5 \\times 10^{-6}$ s "
   ]
  },
  {
   "cell_type": "markdown",
   "id": "seeing-candidate",
   "metadata": {},
   "source": [
    "# Question 4"
   ]
  },
  {
   "cell_type": "markdown",
   "id": "considered-mexico",
   "metadata": {},
   "source": [
    "Frequency of gravitational wave emission is twice the orbital frequency, that is $f_{GW} = 2 f_o$. As time period $T = 1/f$, we get that 0.1 s = $T_o = 1/f_o = 2 / f_{GW}$. Finally, this gives us frequency of GWs emitted is 20 Hz."
   ]
  },
  {
   "cell_type": "markdown",
   "id": "suspended-ethiopia",
   "metadata": {},
   "source": [
    "# Question 5"
   ]
  },
  {
   "cell_type": "code",
   "execution_count": null,
   "id": "aware-halifax",
   "metadata": {},
   "outputs": [],
   "source": []
  }
 ],
 "metadata": {
  "kernelspec": {
   "display_name": "Python 3",
   "language": "python",
   "name": "python3"
  },
  "language_info": {
   "codemirror_mode": {
    "name": "ipython",
    "version": 3
   },
   "file_extension": ".py",
   "mimetype": "text/x-python",
   "name": "python",
   "nbconvert_exporter": "python",
   "pygments_lexer": "ipython3",
   "version": "3.8.8"
  }
 },
 "nbformat": 4,
 "nbformat_minor": 5
}
